{
 "cells": [
  {
   "cell_type": "code",
   "execution_count": 2,
   "metadata": {},
   "outputs": [
    {
     "ename": "KeyboardInterrupt",
     "evalue": "",
     "output_type": "error",
     "traceback": [
      "\u001b[1;31m---------------------------------------------------------------------------\u001b[0m",
      "\u001b[1;31mKeyboardInterrupt\u001b[0m                         Traceback (most recent call last)",
      "\u001b[1;32mc:\\ComputerVision\\Computer Vision - Image Basics with OpenCV and Python\\03_Drawing_with_the_Mouse.ipynb Cell 1\u001b[0m in \u001b[0;36m<cell line: 30>\u001b[1;34m()\u001b[0m\n\u001b[0;32m     <a href='vscode-notebook-cell:/c%3A/ComputerVision/Computer%20Vision%20-%20Image%20Basics%20with%20OpenCV%20and%20Python/03_Drawing_with_the_Mouse.ipynb#W0sZmlsZQ%3D%3D?line=28'>29</a>\u001b[0m \u001b[39mwhile\u001b[39;00m \u001b[39mTrue\u001b[39;00m:\n\u001b[0;32m     <a href='vscode-notebook-cell:/c%3A/ComputerVision/Computer%20Vision%20-%20Image%20Basics%20with%20OpenCV%20and%20Python/03_Drawing_with_the_Mouse.ipynb#W0sZmlsZQ%3D%3D?line=29'>30</a>\u001b[0m     cv2\u001b[39m.\u001b[39mimshow(\u001b[39m'\u001b[39m\u001b[39mmy_drawing\u001b[39m\u001b[39m'\u001b[39m, img)\n\u001b[1;32m---> <a href='vscode-notebook-cell:/c%3A/ComputerVision/Computer%20Vision%20-%20Image%20Basics%20with%20OpenCV%20and%20Python/03_Drawing_with_the_Mouse.ipynb#W0sZmlsZQ%3D%3D?line=31'>32</a>\u001b[0m     \u001b[39mif\u001b[39;00m cv2\u001b[39m.\u001b[39;49mwaitKey(\u001b[39m5\u001b[39;49m) \u001b[39m&\u001b[39m \u001b[39m0xFF\u001b[39m \u001b[39m==\u001b[39m \u001b[39m27\u001b[39m:\n\u001b[0;32m     <a href='vscode-notebook-cell:/c%3A/ComputerVision/Computer%20Vision%20-%20Image%20Basics%20with%20OpenCV%20and%20Python/03_Drawing_with_the_Mouse.ipynb#W0sZmlsZQ%3D%3D?line=32'>33</a>\u001b[0m         \u001b[39mbreak\u001b[39;00m\n\u001b[0;32m     <a href='vscode-notebook-cell:/c%3A/ComputerVision/Computer%20Vision%20-%20Image%20Basics%20with%20OpenCV%20and%20Python/03_Drawing_with_the_Mouse.ipynb#W0sZmlsZQ%3D%3D?line=34'>35</a>\u001b[0m cv2\u001b[39m.\u001b[39mdestroyAllWindows()\n",
      "\u001b[1;31mKeyboardInterrupt\u001b[0m: "
     ]
    },
    {
     "ename": "",
     "evalue": "",
     "output_type": "error",
     "traceback": [
      "\u001b[1;31mThe Kernel crashed while executing code in the the current cell or a previous cell. Please review the code in the cell(s) to identify a possible cause of the failure. Click <a href='https://aka.ms/vscodeJupyterKernelCrash'>here</a> for more info. View Jupyter <a href='command:jupyter.viewOutput'>log</a> for further details."
     ]
    }
   ],
   "source": [
    "# Import Libraries\n",
    "import cv2\n",
    "import numpy as np\n",
    "\n",
    "\n",
    "# Function\n",
    "# x,y, flags, param are feed from OpenCV automaticaly\n",
    "def draw_circle(event, x, y, flags, param):\n",
    "    if event == cv2.EVENT_LBUTTONDOWN:\n",
    "        cv2.circle(img, \n",
    "                    (x, y), \n",
    "                    70, \n",
    "                    (35, 69, 78),\n",
    "                    -1)\n",
    "\n",
    "\n",
    "\n",
    "# Connect the Function with the Callback\n",
    "cv2.namedWindow(winname = 'my_drawing')\n",
    "\n",
    "\n",
    "# Callback\n",
    "cv2.setMouseCallback('my_drawing', draw_circle)\n",
    "\n",
    "# Using OpenCV to show the Image\n",
    "img = np.zeros((512, 512, 3),\n",
    "                np.int8)\n",
    "\n",
    "while True:\n",
    "    cv2.imshow('my_drawing', img)\n",
    "\n",
    "    if cv2.waitKey(5) & 0xFF == 27:\n",
    "        break\n",
    "\n",
    "cv2.destroyAllWindows()\n",
    "\n",
    "\n"
   ]
  },
  {
   "cell_type": "code",
   "execution_count": null,
   "metadata": {},
   "outputs": [],
   "source": []
  }
 ],
 "metadata": {
  "kernelspec": {
   "display_name": "Python 3.9.12 ('base')",
   "language": "python",
   "name": "python3"
  },
  "language_info": {
   "codemirror_mode": {
    "name": "ipython",
    "version": 3
   },
   "file_extension": ".py",
   "mimetype": "text/x-python",
   "name": "python",
   "nbconvert_exporter": "python",
   "pygments_lexer": "ipython3",
   "version": "3.9.12"
  },
  "vscode": {
   "interpreter": {
    "hash": "6d3b476f4c49e6bd944ed2571f5737fb2c589e90e3ec44dcc52f6eb6a495967c"
   }
  }
 },
 "nbformat": 4,
 "nbformat_minor": 4
}
