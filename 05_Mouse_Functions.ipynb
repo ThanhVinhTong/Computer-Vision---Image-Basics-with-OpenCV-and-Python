{
 "cells": [
  {
   "cell_type": "code",
   "execution_count": 9,
   "metadata": {},
   "outputs": [],
   "source": [
    "# Import Libraries\n",
    "import cv2\n",
    "import numpy as np\n",
    "\n",
    "\n",
    "# Variables\n",
    "# TRUE when the mouse button is DOWN\n",
    "# FALSE when the mouse button is UP\n",
    "drawing = False\n",
    "ex = -1\n",
    "ey = -1\n",
    "\n",
    "# Function\n",
    "# x,y, flags, param are feed from OpenCV automaticaly\n",
    "def drawing_rectangle(event, x, y, flags, params):\n",
    "\n",
    "    global ex, ey, drawing\n",
    "\n",
    "    if event == cv2.EVENT_LBUTTONDOWN:\n",
    "        drawing = True\n",
    "        ex, ey = x, y\n",
    "\n",
    "    elif event == cv2.EVENT_MOUSEMOVE:\n",
    "        if drawing == True:\n",
    "            cv2.rectangle(img,\n",
    "                        (ex, ey),\n",
    "                        (x, y),\n",
    "                        (0, 255, 0),\n",
    "                        -1)\n",
    "\n",
    "    elif event == cv2.EVENT_LBUTTONUP:\n",
    "        drawing = False\n",
    "        cv2.rectangle(img,\n",
    "                        (ex, ey),\n",
    "                        (x, y),\n",
    "                        (255, 0, 0),\n",
    "                        -1)\n",
    "\n",
    "\n",
    "\n",
    "# Connect the Function with the Callback\n",
    "img = np.zeros((512, 512, 3), np.int8)\n",
    "\n",
    "cv2.namedWindow(winname = 'my_draw')\n",
    "\n",
    "\n",
    "# Callback\n",
    "cv2.setMouseCallback('my_draw', drawing_rectangle)\n",
    "\n",
    "# Using OpenCV to show the Image\n",
    "while True:\n",
    "\n",
    "    cv2.imshow('my_draw', img)\n",
    "\n",
    "    if cv2.waitKey(5) & 0xFF == ord('q'):\n",
    "        break\n",
    "\n",
    "cv2.destroyAllWindows()"
   ]
  }
 ],
 "metadata": {
  "kernelspec": {
   "display_name": "Python 3.9.12 ('base')",
   "language": "python",
   "name": "python3"
  },
  "language_info": {
   "codemirror_mode": {
    "name": "ipython",
    "version": 3
   },
   "file_extension": ".py",
   "mimetype": "text/x-python",
   "name": "python",
   "nbconvert_exporter": "python",
   "pygments_lexer": "ipython3",
   "version": "3.9.12"
  },
  "vscode": {
   "interpreter": {
    "hash": "6d3b476f4c49e6bd944ed2571f5737fb2c589e90e3ec44dcc52f6eb6a495967c"
   }
  }
 },
 "nbformat": 4,
 "nbformat_minor": 4
}
