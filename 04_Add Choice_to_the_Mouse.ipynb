{
 "cells": [
  {
   "cell_type": "code",
   "execution_count": 1,
   "metadata": {},
   "outputs": [],
   "source": [
    "# Import Libraries\n",
    "import cv2\n",
    "import numpy as np\n",
    "\n",
    "\n",
    "# Function\n",
    "# x,y, flags, param are feed from OpenCV automaticaly\n",
    "def draw_circle(event, x, y, flags, param):\n",
    "    # Left Button Down\n",
    "    if event == cv2.EVENT_LBUTTONDOWN:\n",
    "        cv2.circle(img,\n",
    "                    (x, y),\n",
    "                    100,            # radius\n",
    "                    (75, 131, 251),\n",
    "                    -1)\n",
    "    # Right Button Down\n",
    "\n",
    "\n",
    "# Connect the Function with the Callback\n",
    "cv2.namedWindow(winname = 'Drawing Program')\n",
    "\n",
    "\n",
    "# Callback\n",
    "cv2.setMouseCallback('Drawing Program', draw_circle)\n",
    "\n",
    "# Using OpenCV to show the Image\n",
    "img = np.zeros((512, 512, 3), np.int8)\n",
    "\n",
    "while True:\n",
    "    cv2.imshow('Drawing Program', img)\n",
    "\n",
    "    if cv2.waitKey(5) & 0xFF == ord('q'):\n",
    "        break\n",
    "\n",
    "cv2.destroyAllWindows()\n",
    "\n"
   ]
  },
  {
   "cell_type": "code",
   "execution_count": null,
   "metadata": {},
   "outputs": [],
   "source": []
  }
 ],
 "metadata": {
  "kernelspec": {
   "display_name": "Python 3",
   "language": "python",
   "name": "python3"
  },
  "language_info": {
   "codemirror_mode": {
    "name": "ipython",
    "version": 3
   },
   "file_extension": ".py",
   "mimetype": "text/x-python",
   "name": "python",
   "nbconvert_exporter": "python",
   "pygments_lexer": "ipython3",
   "version": "3.7.4"
  }
 },
 "nbformat": 4,
 "nbformat_minor": 4
}
